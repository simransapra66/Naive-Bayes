{
 "cells": [
  {
   "cell_type": "code",
   "execution_count": 1,
   "metadata": {},
   "outputs": [],
   "source": [
    "#Importing the necessary libraries\n",
    "%matplotlib inline\n",
    "import warnings\n",
    "warnings.filterwarnings('ignore')\n",
    "import matplotlib.pyplot as plt\n",
    "import pandas as pd\n",
    "import numpy as np\n",
    "import nltk\n",
    "import seaborn as sns\n",
    "import re \n",
    "import string\n",
    "from sklearn.feature_extraction.text import TfidfVectorizer\n",
    "from sklearn.feature_extraction.text import CountVectorizer\n",
    "from sklearn import metrics\n",
    "from sklearn.metrics import roc_curve,auc\n",
    "from collections import Counter\n",
    "from tqdm import tqdm\n",
    "\n",
    "import pickle\n",
    "\n",
    "import os\n",
    "\n"
   ]
  },
  {
   "cell_type": "code",
   "execution_count": 2,
   "metadata": {},
   "outputs": [],
   "source": [
    "from sklearn.metrics import confusion_matrix"
   ]
  },
  {
   "cell_type": "markdown",
   "metadata": {},
   "source": [
    "### NAIVE BAYES MULTINOMIAL PROBLEM"
   ]
  },
  {
   "cell_type": "markdown",
   "metadata": {},
   "source": [
    "### Step 1-Loading The Data"
   ]
  },
  {
   "cell_type": "code",
   "execution_count": 67,
   "metadata": {},
   "outputs": [
    {
     "data": {
      "text/html": [
       "<div>\n",
       "<style scoped>\n",
       "    .dataframe tbody tr th:only-of-type {\n",
       "        vertical-align: middle;\n",
       "    }\n",
       "\n",
       "    .dataframe tbody tr th {\n",
       "        vertical-align: top;\n",
       "    }\n",
       "\n",
       "    .dataframe thead th {\n",
       "        text-align: right;\n",
       "    }\n",
       "</style>\n",
       "<table border=\"1\" class=\"dataframe\">\n",
       "  <thead>\n",
       "    <tr style=\"text-align: right;\">\n",
       "      <th></th>\n",
       "      <th>school_state</th>\n",
       "      <th>teacher_prefix</th>\n",
       "      <th>project_grade_category</th>\n",
       "      <th>teacher_number_of_previously_posted_projects</th>\n",
       "      <th>project_is_approved</th>\n",
       "      <th>clean_categories</th>\n",
       "      <th>clean_subcategories</th>\n",
       "      <th>essay</th>\n",
       "      <th>price</th>\n",
       "    </tr>\n",
       "  </thead>\n",
       "  <tbody>\n",
       "    <tr>\n",
       "      <th>0</th>\n",
       "      <td>ca</td>\n",
       "      <td>mrs</td>\n",
       "      <td>grades_prek_2</td>\n",
       "      <td>53</td>\n",
       "      <td>1</td>\n",
       "      <td>math_science</td>\n",
       "      <td>appliedsciences health_lifescience</td>\n",
       "      <td>i fortunate enough use fairy tale stem kits cl...</td>\n",
       "      <td>725.05</td>\n",
       "    </tr>\n",
       "    <tr>\n",
       "      <th>1</th>\n",
       "      <td>ut</td>\n",
       "      <td>ms</td>\n",
       "      <td>grades_3_5</td>\n",
       "      <td>4</td>\n",
       "      <td>1</td>\n",
       "      <td>specialneeds</td>\n",
       "      <td>specialneeds</td>\n",
       "      <td>imagine 8 9 years old you third grade classroo...</td>\n",
       "      <td>213.03</td>\n",
       "    </tr>\n",
       "  </tbody>\n",
       "</table>\n",
       "</div>"
      ],
      "text/plain": [
       "  school_state teacher_prefix project_grade_category  \\\n",
       "0           ca            mrs          grades_prek_2   \n",
       "1           ut             ms             grades_3_5   \n",
       "\n",
       "   teacher_number_of_previously_posted_projects  project_is_approved  \\\n",
       "0                                            53                    1   \n",
       "1                                             4                    1   \n",
       "\n",
       "  clean_categories                 clean_subcategories  \\\n",
       "0     math_science  appliedsciences health_lifescience   \n",
       "1     specialneeds                        specialneeds   \n",
       "\n",
       "                                               essay   price  \n",
       "0  i fortunate enough use fairy tale stem kits cl...  725.05  \n",
       "1  imagine 8 9 years old you third grade classroo...  213.03  "
      ]
     },
     "execution_count": 67,
     "metadata": {},
     "output_type": "execute_result"
    }
   ],
   "source": [
    "data=pd.read_csv('preprocessed_data.csv',nrows=50000)\n",
    "data.head(2)"
   ]
  },
  {
   "cell_type": "code",
   "execution_count": 68,
   "metadata": {},
   "outputs": [
    {
     "data": {
      "text/plain": [
       "1    41993\n",
       "0     8007\n",
       "Name: project_is_approved, dtype: int64"
      ]
     },
     "execution_count": 68,
     "metadata": {},
     "output_type": "execute_result"
    }
   ],
   "source": [
    "data['project_is_approved'].value_counts()"
   ]
  },
  {
   "cell_type": "code",
   "execution_count": 5,
   "metadata": {},
   "outputs": [
    {
     "name": "stdout",
     "output_type": "stream",
     "text": [
      "The shape of the donors choose dataframe is\n",
      "\n"
     ]
    },
    {
     "data": {
      "text/plain": [
       "(50000, 9)"
      ]
     },
     "execution_count": 5,
     "metadata": {},
     "output_type": "execute_result"
    }
   ],
   "source": [
    "print(\"The shape of the donors choose dataframe is\\n\")\n",
    "data.shape"
   ]
  },
  {
   "cell_type": "code",
   "execution_count": 6,
   "metadata": {
    "scrolled": true
   },
   "outputs": [
    {
     "data": {
      "text/html": [
       "<div>\n",
       "<style scoped>\n",
       "    .dataframe tbody tr th:only-of-type {\n",
       "        vertical-align: middle;\n",
       "    }\n",
       "\n",
       "    .dataframe tbody tr th {\n",
       "        vertical-align: top;\n",
       "    }\n",
       "\n",
       "    .dataframe thead th {\n",
       "        text-align: right;\n",
       "    }\n",
       "</style>\n",
       "<table border=\"1\" class=\"dataframe\">\n",
       "  <thead>\n",
       "    <tr style=\"text-align: right;\">\n",
       "      <th></th>\n",
       "      <th>school_state</th>\n",
       "      <th>teacher_prefix</th>\n",
       "      <th>project_grade_category</th>\n",
       "      <th>teacher_number_of_previously_posted_projects</th>\n",
       "      <th>clean_categories</th>\n",
       "      <th>clean_subcategories</th>\n",
       "      <th>essay</th>\n",
       "      <th>price</th>\n",
       "    </tr>\n",
       "  </thead>\n",
       "  <tbody>\n",
       "    <tr>\n",
       "      <th>0</th>\n",
       "      <td>ca</td>\n",
       "      <td>mrs</td>\n",
       "      <td>grades_prek_2</td>\n",
       "      <td>53</td>\n",
       "      <td>math_science</td>\n",
       "      <td>appliedsciences health_lifescience</td>\n",
       "      <td>i fortunate enough use fairy tale stem kits cl...</td>\n",
       "      <td>725.05</td>\n",
       "    </tr>\n",
       "  </tbody>\n",
       "</table>\n",
       "</div>"
      ],
      "text/plain": [
       "  school_state teacher_prefix project_grade_category  \\\n",
       "0           ca            mrs          grades_prek_2   \n",
       "\n",
       "   teacher_number_of_previously_posted_projects clean_categories  \\\n",
       "0                                            53     math_science   \n",
       "\n",
       "                  clean_subcategories  \\\n",
       "0  appliedsciences health_lifescience   \n",
       "\n",
       "                                               essay   price  \n",
       "0  i fortunate enough use fairy tale stem kits cl...  725.05  "
      ]
     },
     "execution_count": 6,
     "metadata": {},
     "output_type": "execute_result"
    }
   ],
   "source": [
    "X=data.drop(['project_is_approved'],axis=1)\n",
    "y=data['project_is_approved'].values\n",
    "X.head(1)"
   ]
  },
  {
   "cell_type": "code",
   "execution_count": 7,
   "metadata": {},
   "outputs": [
    {
     "data": {
      "text/plain": [
       "Index(['school_state', 'teacher_prefix', 'project_grade_category',\n",
       "       'teacher_number_of_previously_posted_projects', 'project_is_approved',\n",
       "       'clean_categories', 'clean_subcategories', 'essay', 'price'],\n",
       "      dtype='object')"
      ]
     },
     "execution_count": 7,
     "metadata": {},
     "output_type": "execute_result"
    }
   ],
   "source": [
    "data.columns\n"
   ]
  },
  {
   "cell_type": "markdown",
   "metadata": {},
   "source": [
    "### Splitting the data into train and test"
   ]
  },
  {
   "cell_type": "code",
   "execution_count": 8,
   "metadata": {},
   "outputs": [
    {
     "name": "stdout",
     "output_type": "stream",
     "text": [
      "The shapes of the trained datasets are\n",
      "\n",
      "(33500, 8)\n",
      "(33500,)\n",
      "The shape of the test datasets are\n",
      "\n",
      "(16500, 8)\n",
      "(16500,)\n"
     ]
    }
   ],
   "source": [
    "#STRATIFIED SAMPLING\n",
    "#As we will be doing hyperparameter tuning using Gridsearch cv so no need to split in the cv set\n",
    "from sklearn.model_selection import train_test_split\n",
    "\n",
    "X_train,X_test,y_train,y_test=train_test_split(X,y,test_size=0.33,stratify=y)\n",
    "\n",
    "print(\"The shapes of the trained datasets are\\n\")\n",
    "print(X_train.shape)\n",
    "print(y_train.shape)\n",
    "print(\"The shape of the test datasets are\\n\")\n",
    "print(X_test.shape)\n",
    "print(y_test.shape)\n"
   ]
  },
  {
   "cell_type": "markdown",
   "metadata": {},
   "source": [
    "### Making the features model ready that is encoding and numerical features"
   ]
  },
  {
   "cell_type": "markdown",
   "metadata": {},
   "source": [
    "### Encoding Categorical Features"
   ]
  },
  {
   "cell_type": "code",
   "execution_count": 9,
   "metadata": {},
   "outputs": [
    {
     "name": "stdout",
     "output_type": "stream",
     "text": [
      "After vectorisations the shapes of respective datasets are \n",
      "\n",
      "(33500, 50000)\n",
      " \n",
      "(16500, 50000)\n"
     ]
    }
   ],
   "source": [
    "# Now we have to construct two sets one with bag of words approach and second with tfidf vectoriser approach\n",
    "\n",
    "# Firstly for set 1 we will do the bag of words approach\n",
    "\n",
    "# The first feature that we are converting into bow is essay\n",
    "\n",
    "vect=CountVectorizer(min_df=10,ngram_range=(1,4),max_features=50000)\n",
    "\n",
    "vect.fit(X_train['essay'].values)\n",
    "\n",
    "X_train_essay_bow=vect.transform(X_train['essay'].values)\n",
    "\n",
    "X_test_essay_bow=vect.transform(X_test['essay'].values)\n",
    "\n",
    "print(\"After vectorisations the shapes of respective datasets are \\n\")\n",
    "print(X_train_essay_bow.shape)\n",
    "print(\" \")\n",
    "print(X_test_essay_bow.shape)"
   ]
  },
  {
   "cell_type": "code",
   "execution_count": 10,
   "metadata": {},
   "outputs": [
    {
     "name": "stdout",
     "output_type": "stream",
     "text": [
      "After vectorisations the shapes are\n",
      "\n",
      "(33500, 51)\n",
      "(16500, 51)\n",
      "['ak', 'al', 'ar', 'az', 'ca', 'co', 'ct', 'dc', 'de', 'fl', 'ga', 'hi', 'ia', 'id', 'il', 'in', 'ks', 'ky', 'la', 'ma', 'md', 'me', 'mi', 'mn', 'mo', 'ms', 'mt', 'nc', 'nd', 'ne', 'nh', 'nj', 'nm', 'nv', 'ny', 'oh', 'ok', 'or', 'pa', 'ri', 'sc', 'sd', 'tn', 'tx', 'ut', 'va', 'vt', 'wa', 'wi', 'wv', 'wy']\n"
     ]
    }
   ],
   "source": [
    "# The next feature that we consider for one hot encoding is the school state categorical feature\n",
    "vec=CountVectorizer()\n",
    "vec.fit(X_train['school_state'].values)\n",
    "X_train_ohe=vec.transform(X_train['school_state'].values)\n",
    "X_test_ohe=vec.transform(X_test['school_state'].values)\n",
    "print(\"After vectorisations the shapes are\\n\")\n",
    "print(X_train_ohe.shape)\n",
    "print(X_test_ohe.shape)\n",
    "print(vec.get_feature_names())\n"
   ]
  },
  {
   "cell_type": "code",
   "execution_count": 11,
   "metadata": {},
   "outputs": [
    {
     "name": "stdout",
     "output_type": "stream",
     "text": [
      "After vectorization the shapes are\n",
      "\n",
      "(33500, 5)\n",
      "(16500, 5)\n",
      "['dr', 'mr', 'mrs', 'ms', 'teacher']\n"
     ]
    }
   ],
   "source": [
    "# The next feature for one hot encoding is Teacher_prefix\n",
    "vec=CountVectorizer()\n",
    "vec.fit(X_train['teacher_prefix'].values)\n",
    "X_train_teachpre_ohe=vec.transform(X_train['teacher_prefix'].values)\n",
    "X_test_teachpre_ohe=vec.transform(X_test['teacher_prefix'].values)\n",
    "print(\"After vectorization the shapes are\\n\")\n",
    "print(X_train_teachpre_ohe.shape)\n",
    "print(X_test_teachpre_ohe.shape)\n",
    "print(vec.get_feature_names())"
   ]
  },
  {
   "cell_type": "code",
   "execution_count": 12,
   "metadata": {},
   "outputs": [
    {
     "name": "stdout",
     "output_type": "stream",
     "text": [
      "After vectorizations shapes are\n",
      "\n",
      "(33500, 4)\n",
      "(16500, 4)\n",
      "['grades_3_5', 'grades_6_8', 'grades_9_12', 'grades_prek_2']\n"
     ]
    }
   ],
   "source": [
    "# Next feature is project_grade_category\n",
    "vec=CountVectorizer()\n",
    "vec.fit(X_train['project_grade_category'].values)\n",
    "X_train_pgc_ohe=vec.transform(X_train['project_grade_category'].values)\n",
    "X_test_pgc_ohe=vec.transform(X_test['project_grade_category'].values)\n",
    "print(\"After vectorizations shapes are\\n\")\n",
    "print(X_train_pgc_ohe.shape)\n",
    "print(X_test_pgc_ohe.shape)\n",
    "print(vec.get_feature_names())"
   ]
  },
  {
   "cell_type": "code",
   "execution_count": 13,
   "metadata": {},
   "outputs": [
    {
     "name": "stdout",
     "output_type": "stream",
     "text": [
      "Shapes after vectorisations are\n",
      "(33500, 9)\n",
      "(16500, 9)\n",
      "['appliedlearning', 'care_hunger', 'health_sports', 'history_civics', 'literacy_language', 'math_science', 'music_arts', 'specialneeds', 'warmth']\n"
     ]
    }
   ],
   "source": [
    "# The next feature is is clean categories\n",
    "vec=CountVectorizer()\n",
    "vec.fit(X_train['clean_categories'].values)\n",
    "X_train_cat_ohe=vec.transform(X_train['clean_categories'].values)\n",
    "X_test_cat_ohe=vec.transform(X_test['clean_categories'].values)\n",
    "print(\"Shapes after vectorisations are\")\n",
    "print(X_train_cat_ohe.shape)\n",
    "print(X_test_cat_ohe.shape)\n",
    "print(vec.get_feature_names())"
   ]
  },
  {
   "cell_type": "code",
   "execution_count": 14,
   "metadata": {},
   "outputs": [
    {
     "name": "stdout",
     "output_type": "stream",
     "text": [
      "Shapes after Vectorizations\n",
      "\n",
      "(33500, 30)\n",
      "(16500, 30)\n",
      "['appliedsciences', 'care_hunger', 'charactereducation', 'civics_government', 'college_careerprep', 'communityservice', 'earlydevelopment', 'economics', 'environmentalscience', 'esl', 'extracurricular', 'financialliteracy', 'foreignlanguages', 'gym_fitness', 'health_lifescience', 'health_wellness', 'history_geography', 'literacy', 'literature_writing', 'mathematics', 'music', 'nutritioneducation', 'other', 'parentinvolvement', 'performingarts', 'socialsciences', 'specialneeds', 'teamsports', 'visualarts', 'warmth']\n"
     ]
    }
   ],
   "source": [
    "#Next feature is clean_subcategories\n",
    "vec=CountVectorizer()\n",
    "vec.fit(X_train['clean_subcategories'].values)\n",
    "X_train_sub_ohe=vec.transform(X_train['clean_subcategories'].values)\n",
    "X_test_sub_ohe=vec.transform(X_test['clean_subcategories'].values)\n",
    "print(\"Shapes after Vectorizations\\n\")\n",
    "print(X_train_sub_ohe.shape)\n",
    "print(X_test_sub_ohe.shape)\n",
    "print(vec.get_feature_names())\n"
   ]
  },
  {
   "cell_type": "code",
   "execution_count": 15,
   "metadata": {},
   "outputs": [
    {
     "name": "stdout",
     "output_type": "stream",
     "text": [
      "After Normalizations the shapes are\n",
      "\n",
      "(33500, 1)\n",
      "(16500, 1)\n"
     ]
    }
   ],
   "source": [
    "#Encoding the price feature in the dataframe\n",
    "\n",
    "from sklearn.preprocessing import Normalizer\n",
    "normalizer=Normalizer()\n",
    "normalizer.fit(X_train['price'].values.reshape(-1,1))\n",
    "\n",
    "X_train_price_norm = normalizer.transform(X_train['price'].values.reshape(-1,1))\n",
    "X_test_price_norm = normalizer.transform(X_test['price'].values.reshape(-1,1))\n",
    "print(\"After Normalizations the shapes are\\n\")\n",
    "print(X_train_price_norm.shape)\n",
    "print(X_test_price_norm.shape)"
   ]
  },
  {
   "cell_type": "code",
   "execution_count": 16,
   "metadata": {},
   "outputs": [
    {
     "name": "stdout",
     "output_type": "stream",
     "text": [
      "After normalizations the shapes are \n",
      "\n",
      "(33500, 1)\n",
      "(16500, 1)\n"
     ]
    }
   ],
   "source": [
    "# The numerical feature of teacher_number_of _previously_approved_projects\n",
    "nor=Normalizer()\n",
    "nor.fit(X_train['teacher_number_of_previously_posted_projects'].values.reshape(-1,1))\n",
    "X_train_pre_norm=nor.transform(X_train['teacher_number_of_previously_posted_projects'].values.reshape(-1,1))\n",
    "X_test_pre_norm=nor.transform(X_test['teacher_number_of_previously_posted_projects'].values.reshape(-1,1))\n",
    "print(\"After normalizations the shapes are \\n\")\n",
    "print(X_train_pre_norm.shape)\n",
    "print(X_test_pre_norm.shape)\n"
   ]
  },
  {
   "cell_type": "markdown",
   "metadata": {},
   "source": [
    "### Concatenating all the features "
   ]
  },
  {
   "cell_type": "code",
   "execution_count": 17,
   "metadata": {},
   "outputs": [
    {
     "name": "stdout",
     "output_type": "stream",
     "text": [
      "The new data shapes after concatenation are\n",
      "\n",
      "(33500, 50101)\n",
      "(33500,)\n",
      " \n",
      "(16500, 50101)\n",
      "(16500,)\n"
     ]
    }
   ],
   "source": [
    "from scipy.sparse import hstack\n",
    "X_tr=hstack((X_train_essay_bow,X_train_ohe,X_train_pgc_ohe,X_train_teachpre_ohe,X_train_cat_ohe,X_train_sub_ohe,X_train_pre_norm,X_train_price_norm)).tocsr()\n",
    "X_te=hstack((X_test_essay_bow,X_test_ohe,X_test_pgc_ohe,X_test_teachpre_ohe,X_test_cat_ohe,X_test_sub_ohe,X_test_pre_norm,X_test_price_norm)).tocsr()\n",
    "\n",
    "print(\"The new data shapes after concatenation are\\n\")\n",
    "print(X_tr.shape)\n",
    "print(y_train.shape)\n",
    "print(\" \")\n",
    "print(X_te.shape)\n",
    "print(y_test.shape)"
   ]
  },
  {
   "cell_type": "code",
   "execution_count": 18,
   "metadata": {},
   "outputs": [
    {
     "data": {
      "text/plain": [
       "scipy.sparse.csr.csr_matrix"
      ]
     },
     "execution_count": 18,
     "metadata": {},
     "output_type": "execute_result"
    }
   ],
   "source": [
    "type(X_tr)"
   ]
  },
  {
   "cell_type": "markdown",
   "metadata": {},
   "source": [
    "### Hyper Parameter Tuning Using Gridsearch CV\n"
   ]
  },
  {
   "cell_type": "code",
   "execution_count": 19,
   "metadata": {},
   "outputs": [],
   "source": [
    "from sklearn.model_selection import GridSearchCV\n",
    "from sklearn.naive_bayes import MultinomialNB\n",
    "from sklearn.metrics import roc_auc_score\n",
    "from sklearn.model_selection import RandomizedSearchCV\n"
   ]
  },
  {
   "cell_type": "code",
   "execution_count": 20,
   "metadata": {},
   "outputs": [
    {
     "data": {
      "text/html": [
       "<div>\n",
       "<style scoped>\n",
       "    .dataframe tbody tr th:only-of-type {\n",
       "        vertical-align: middle;\n",
       "    }\n",
       "\n",
       "    .dataframe tbody tr th {\n",
       "        vertical-align: top;\n",
       "    }\n",
       "\n",
       "    .dataframe thead th {\n",
       "        text-align: right;\n",
       "    }\n",
       "</style>\n",
       "<table border=\"1\" class=\"dataframe\">\n",
       "  <thead>\n",
       "    <tr style=\"text-align: right;\">\n",
       "      <th></th>\n",
       "      <th>mean_fit_time</th>\n",
       "      <th>std_fit_time</th>\n",
       "      <th>mean_score_time</th>\n",
       "      <th>std_score_time</th>\n",
       "      <th>param_alpha</th>\n",
       "      <th>params</th>\n",
       "      <th>split0_test_score</th>\n",
       "      <th>split1_test_score</th>\n",
       "      <th>split2_test_score</th>\n",
       "      <th>mean_test_score</th>\n",
       "      <th>std_test_score</th>\n",
       "      <th>rank_test_score</th>\n",
       "      <th>split0_train_score</th>\n",
       "      <th>split1_train_score</th>\n",
       "      <th>split2_train_score</th>\n",
       "      <th>mean_train_score</th>\n",
       "      <th>std_train_score</th>\n",
       "    </tr>\n",
       "  </thead>\n",
       "  <tbody>\n",
       "    <tr>\n",
       "      <th>0</th>\n",
       "      <td>0.257594</td>\n",
       "      <td>0.253812</td>\n",
       "      <td>0.165813</td>\n",
       "      <td>0.201455</td>\n",
       "      <td>1e-05</td>\n",
       "      <td>{'alpha': 1e-05}</td>\n",
       "      <td>0.657293</td>\n",
       "      <td>0.646890</td>\n",
       "      <td>0.642164</td>\n",
       "      <td>0.648782</td>\n",
       "      <td>0.006319</td>\n",
       "      <td>12</td>\n",
       "      <td>0.958839</td>\n",
       "      <td>0.959317</td>\n",
       "      <td>0.959076</td>\n",
       "      <td>0.959077</td>\n",
       "      <td>0.000195</td>\n",
       "    </tr>\n",
       "    <tr>\n",
       "      <th>1</th>\n",
       "      <td>0.072913</td>\n",
       "      <td>0.007378</td>\n",
       "      <td>0.020831</td>\n",
       "      <td>0.007365</td>\n",
       "      <td>0.0005</td>\n",
       "      <td>{'alpha': 0.0005}</td>\n",
       "      <td>0.672501</td>\n",
       "      <td>0.664907</td>\n",
       "      <td>0.662534</td>\n",
       "      <td>0.666647</td>\n",
       "      <td>0.004251</td>\n",
       "      <td>9</td>\n",
       "      <td>0.952663</td>\n",
       "      <td>0.952537</td>\n",
       "      <td>0.953121</td>\n",
       "      <td>0.952773</td>\n",
       "      <td>0.000251</td>\n",
       "    </tr>\n",
       "    <tr>\n",
       "      <th>2</th>\n",
       "      <td>0.083805</td>\n",
       "      <td>0.007052</td>\n",
       "      <td>0.022626</td>\n",
       "      <td>0.006480</td>\n",
       "      <td>0.0001</td>\n",
       "      <td>{'alpha': 0.0001}</td>\n",
       "      <td>0.665493</td>\n",
       "      <td>0.656718</td>\n",
       "      <td>0.653138</td>\n",
       "      <td>0.658450</td>\n",
       "      <td>0.005191</td>\n",
       "      <td>10</td>\n",
       "      <td>0.955617</td>\n",
       "      <td>0.955789</td>\n",
       "      <td>0.955967</td>\n",
       "      <td>0.955791</td>\n",
       "      <td>0.000143</td>\n",
       "    </tr>\n",
       "    <tr>\n",
       "      <th>3</th>\n",
       "      <td>0.087327</td>\n",
       "      <td>0.013015</td>\n",
       "      <td>0.028833</td>\n",
       "      <td>0.003395</td>\n",
       "      <td>0.005</td>\n",
       "      <td>{'alpha': 0.005}</td>\n",
       "      <td>0.684253</td>\n",
       "      <td>0.676892</td>\n",
       "      <td>0.673676</td>\n",
       "      <td>0.678274</td>\n",
       "      <td>0.004427</td>\n",
       "      <td>7</td>\n",
       "      <td>0.946932</td>\n",
       "      <td>0.946161</td>\n",
       "      <td>0.947575</td>\n",
       "      <td>0.946889</td>\n",
       "      <td>0.000578</td>\n",
       "    </tr>\n",
       "    <tr>\n",
       "      <th>4</th>\n",
       "      <td>0.079721</td>\n",
       "      <td>0.004863</td>\n",
       "      <td>0.067949</td>\n",
       "      <td>0.058578</td>\n",
       "      <td>0.001</td>\n",
       "      <td>{'alpha': 0.001}</td>\n",
       "      <td>0.676228</td>\n",
       "      <td>0.668885</td>\n",
       "      <td>0.665585</td>\n",
       "      <td>0.670233</td>\n",
       "      <td>0.004448</td>\n",
       "      <td>8</td>\n",
       "      <td>0.951160</td>\n",
       "      <td>0.950872</td>\n",
       "      <td>0.951674</td>\n",
       "      <td>0.951235</td>\n",
       "      <td>0.000332</td>\n",
       "    </tr>\n",
       "    <tr>\n",
       "      <th>5</th>\n",
       "      <td>0.088268</td>\n",
       "      <td>0.007187</td>\n",
       "      <td>0.028829</td>\n",
       "      <td>0.003425</td>\n",
       "      <td>0.05</td>\n",
       "      <td>{'alpha': 0.05}</td>\n",
       "      <td>0.693116</td>\n",
       "      <td>0.686618</td>\n",
       "      <td>0.686510</td>\n",
       "      <td>0.688748</td>\n",
       "      <td>0.003089</td>\n",
       "      <td>4</td>\n",
       "      <td>0.938086</td>\n",
       "      <td>0.936387</td>\n",
       "      <td>0.938913</td>\n",
       "      <td>0.937795</td>\n",
       "      <td>0.001052</td>\n",
       "    </tr>\n",
       "    <tr>\n",
       "      <th>6</th>\n",
       "      <td>0.075542</td>\n",
       "      <td>0.003646</td>\n",
       "      <td>0.020833</td>\n",
       "      <td>0.007365</td>\n",
       "      <td>0.01</td>\n",
       "      <td>{'alpha': 0.01}</td>\n",
       "      <td>0.687244</td>\n",
       "      <td>0.680275</td>\n",
       "      <td>0.678734</td>\n",
       "      <td>0.682085</td>\n",
       "      <td>0.003702</td>\n",
       "      <td>6</td>\n",
       "      <td>0.944698</td>\n",
       "      <td>0.943683</td>\n",
       "      <td>0.945402</td>\n",
       "      <td>0.944594</td>\n",
       "      <td>0.000706</td>\n",
       "    </tr>\n",
       "    <tr>\n",
       "      <th>7</th>\n",
       "      <td>0.085902</td>\n",
       "      <td>0.006378</td>\n",
       "      <td>0.031257</td>\n",
       "      <td>0.012764</td>\n",
       "      <td>0.1</td>\n",
       "      <td>{'alpha': 0.1}</td>\n",
       "      <td>0.694733</td>\n",
       "      <td>0.688975</td>\n",
       "      <td>0.688651</td>\n",
       "      <td>0.690786</td>\n",
       "      <td>0.002794</td>\n",
       "      <td>3</td>\n",
       "      <td>0.934312</td>\n",
       "      <td>0.932243</td>\n",
       "      <td>0.935211</td>\n",
       "      <td>0.933922</td>\n",
       "      <td>0.001243</td>\n",
       "    </tr>\n",
       "    <tr>\n",
       "      <th>8</th>\n",
       "      <td>0.082010</td>\n",
       "      <td>0.003674</td>\n",
       "      <td>0.025895</td>\n",
       "      <td>0.003448</td>\n",
       "      <td>0.5</td>\n",
       "      <td>{'alpha': 0.5}</td>\n",
       "      <td>0.695891</td>\n",
       "      <td>0.693322</td>\n",
       "      <td>0.691860</td>\n",
       "      <td>0.693691</td>\n",
       "      <td>0.001666</td>\n",
       "      <td>1</td>\n",
       "      <td>0.921083</td>\n",
       "      <td>0.917725</td>\n",
       "      <td>0.922241</td>\n",
       "      <td>0.920349</td>\n",
       "      <td>0.001915</td>\n",
       "    </tr>\n",
       "    <tr>\n",
       "      <th>9</th>\n",
       "      <td>0.080623</td>\n",
       "      <td>0.000473</td>\n",
       "      <td>0.049745</td>\n",
       "      <td>0.037138</td>\n",
       "      <td>1</td>\n",
       "      <td>{'alpha': 1}</td>\n",
       "      <td>0.695059</td>\n",
       "      <td>0.693691</td>\n",
       "      <td>0.691435</td>\n",
       "      <td>0.693395</td>\n",
       "      <td>0.001494</td>\n",
       "      <td>2</td>\n",
       "      <td>0.911533</td>\n",
       "      <td>0.907338</td>\n",
       "      <td>0.913003</td>\n",
       "      <td>0.910625</td>\n",
       "      <td>0.002400</td>\n",
       "    </tr>\n",
       "  </tbody>\n",
       "</table>\n",
       "</div>"
      ],
      "text/plain": [
       "   mean_fit_time  std_fit_time  mean_score_time  std_score_time param_alpha  \\\n",
       "0       0.257594      0.253812         0.165813        0.201455       1e-05   \n",
       "1       0.072913      0.007378         0.020831        0.007365      0.0005   \n",
       "2       0.083805      0.007052         0.022626        0.006480      0.0001   \n",
       "3       0.087327      0.013015         0.028833        0.003395       0.005   \n",
       "4       0.079721      0.004863         0.067949        0.058578       0.001   \n",
       "5       0.088268      0.007187         0.028829        0.003425        0.05   \n",
       "6       0.075542      0.003646         0.020833        0.007365        0.01   \n",
       "7       0.085902      0.006378         0.031257        0.012764         0.1   \n",
       "8       0.082010      0.003674         0.025895        0.003448         0.5   \n",
       "9       0.080623      0.000473         0.049745        0.037138           1   \n",
       "\n",
       "              params  split0_test_score  split1_test_score  split2_test_score  \\\n",
       "0   {'alpha': 1e-05}           0.657293           0.646890           0.642164   \n",
       "1  {'alpha': 0.0005}           0.672501           0.664907           0.662534   \n",
       "2  {'alpha': 0.0001}           0.665493           0.656718           0.653138   \n",
       "3   {'alpha': 0.005}           0.684253           0.676892           0.673676   \n",
       "4   {'alpha': 0.001}           0.676228           0.668885           0.665585   \n",
       "5    {'alpha': 0.05}           0.693116           0.686618           0.686510   \n",
       "6    {'alpha': 0.01}           0.687244           0.680275           0.678734   \n",
       "7     {'alpha': 0.1}           0.694733           0.688975           0.688651   \n",
       "8     {'alpha': 0.5}           0.695891           0.693322           0.691860   \n",
       "9       {'alpha': 1}           0.695059           0.693691           0.691435   \n",
       "\n",
       "   mean_test_score  std_test_score  rank_test_score  split0_train_score  \\\n",
       "0         0.648782        0.006319               12            0.958839   \n",
       "1         0.666647        0.004251                9            0.952663   \n",
       "2         0.658450        0.005191               10            0.955617   \n",
       "3         0.678274        0.004427                7            0.946932   \n",
       "4         0.670233        0.004448                8            0.951160   \n",
       "5         0.688748        0.003089                4            0.938086   \n",
       "6         0.682085        0.003702                6            0.944698   \n",
       "7         0.690786        0.002794                3            0.934312   \n",
       "8         0.693691        0.001666                1            0.921083   \n",
       "9         0.693395        0.001494                2            0.911533   \n",
       "\n",
       "   split1_train_score  split2_train_score  mean_train_score  std_train_score  \n",
       "0            0.959317            0.959076          0.959077         0.000195  \n",
       "1            0.952537            0.953121          0.952773         0.000251  \n",
       "2            0.955789            0.955967          0.955791         0.000143  \n",
       "3            0.946161            0.947575          0.946889         0.000578  \n",
       "4            0.950872            0.951674          0.951235         0.000332  \n",
       "5            0.936387            0.938913          0.937795         0.001052  \n",
       "6            0.943683            0.945402          0.944594         0.000706  \n",
       "7            0.932243            0.935211          0.933922         0.001243  \n",
       "8            0.917725            0.922241          0.920349         0.001915  \n",
       "9            0.907338            0.913003          0.910625         0.002400  "
      ]
     },
     "execution_count": 20,
     "metadata": {},
     "output_type": "execute_result"
    }
   ],
   "source": [
    "mn=MultinomialNB(class_prior=[0.5,0.5])\n",
    "parameters={'alpha':[0.00001,0.0005, 0.0001,0.005,0.001,0.05,0.01,0.1,0.5,1,5,10,50,100]}\n",
    "\n",
    "\n",
    "clf = GridSearchCV(mn, parameters, cv=3, scoring='roc_auc',return_train_score=True)\n",
    "clf.fit(X_tr, y_train)\n",
    "\n",
    "\n",
    "results = pd.DataFrame.from_dict(clf.cv_results_)\n",
    "\n",
    "\n",
    "results.head(10)\n",
    "\n"
   ]
  },
  {
   "cell_type": "code",
   "execution_count": 21,
   "metadata": {},
   "outputs": [
    {
     "data": {
      "text/plain": [
       "Index(['mean_fit_time', 'std_fit_time', 'mean_score_time', 'std_score_time',\n",
       "       'param_alpha', 'params', 'split0_test_score', 'split1_test_score',\n",
       "       'split2_test_score', 'mean_test_score', 'std_test_score',\n",
       "       'rank_test_score', 'split0_train_score', 'split1_train_score',\n",
       "       'split2_train_score', 'mean_train_score', 'std_train_score'],\n",
       "      dtype='object')"
      ]
     },
     "execution_count": 21,
     "metadata": {},
     "output_type": "execute_result"
    }
   ],
   "source": [
    "results.columns"
   ]
  },
  {
   "cell_type": "code",
   "execution_count": 22,
   "metadata": {},
   "outputs": [
    {
     "data": {
      "text/plain": [
       "(14, 17)"
      ]
     },
     "execution_count": 22,
     "metadata": {},
     "output_type": "execute_result"
    }
   ],
   "source": [
    "results.shape"
   ]
  },
  {
   "cell_type": "code",
   "execution_count": 23,
   "metadata": {},
   "outputs": [
    {
     "name": "stdout",
     "output_type": "stream",
     "text": [
      "0      1e-05\n",
      "1     0.0005\n",
      "2     0.0001\n",
      "3      0.005\n",
      "4      0.001\n",
      "5       0.05\n",
      "6       0.01\n",
      "7        0.1\n",
      "8        0.5\n",
      "9          1\n",
      "10         5\n",
      "11        10\n",
      "12        50\n",
      "13       100\n",
      "Name: param_alpha, dtype: object\n"
     ]
    }
   ],
   "source": [
    "al=results['param_alpha']\n",
    "print(al)"
   ]
  },
  {
   "cell_type": "code",
   "execution_count": 24,
   "metadata": {},
   "outputs": [],
   "source": [
    "results.param_alpha=results.param_alpha.apply(lambda x: np.log(x))"
   ]
  },
  {
   "cell_type": "code",
   "execution_count": 25,
   "metadata": {},
   "outputs": [
    {
     "data": {
      "text/plain": [
       "0    -11.512925\n",
       "1     -7.600902\n",
       "2     -9.210340\n",
       "3     -5.298317\n",
       "4     -6.907755\n",
       "5     -2.995732\n",
       "6     -4.605170\n",
       "7     -2.302585\n",
       "8     -0.693147\n",
       "9      0.000000\n",
       "10     1.609438\n",
       "11     2.302585\n",
       "12     3.912023\n",
       "13     4.605170\n",
       "Name: param_alpha, dtype: float64"
      ]
     },
     "execution_count": 25,
     "metadata": {},
     "output_type": "execute_result"
    }
   ],
   "source": [
    "results.param_alpha"
   ]
  },
  {
   "cell_type": "code",
   "execution_count": 26,
   "metadata": {},
   "outputs": [
    {
     "data": {
      "image/png": "[encoded data removed]",
      "text/plain": [
       "<Figure size 432x288 with 1 Axes>"
      ]
     },
     "metadata": {
      "needs_background": "light"
     },
     "output_type": "display_data"
    }
   ],
   "source": [
    "#Plotting the hyperparameter vs train auc and test auc plot\n",
    "\n",
    "import math\n",
    "train_auc=results['mean_train_score']\n",
    "val_auc=results['mean_test_score']\n",
    "\n",
    "al=results['param_alpha']\n",
    "\n",
    "plt.plot(results['param_alpha'],train_auc,label='Train AUC')\n",
    "plt.plot(results['param_alpha'],val_auc,label=\"Validated AUC\")\n",
    "plt.scatter(al,train_auc,label='Train Auc points')\n",
    "plt.scatter(al,val_auc,label='Test Auc points')\n",
    "plt.xlabel('Log alpha Hyperparameter')\n",
    "plt.ylabel(\"AREA UNDER THE CURVE\")\n",
    "plt.title(label='Hyperparameter vs Auc Plot')\n",
    "plt.grid()\n",
    "plt.legend()\n",
    "plt.show()"
   ]
  },
  {
   "cell_type": "code",
   "execution_count": 46,
   "metadata": {
    "scrolled": true
   },
   "outputs": [
    {
     "data": {
      "image/png": "[encoded data removed]",
      "text/plain": [
       "<Figure size 432x288 with 1 Axes>"
      ]
     },
     "metadata": {
      "needs_background": "light"
     },
     "output_type": "display_data"
    }
   ],
   "source": [
    "#From the above plot between train and cv and log of hyperparameter we can say that the best value of alpha is 50\n",
    "# So we will now train our model on this value of alpha\n",
    "mn=MultinomialNB(alpha=50)\n",
    "mn.fit(X_tr,y_train)\n",
    "y_train_pred=mn.predict(X_tr)\n",
    "y_test_pred=mn.predict(X_te)\n",
    "train_fpr, train_tpr, tr_thresholds = roc_curve(y_train, y_train_pred)\n",
    "test_fpr, test_tpr, te_thresholds = roc_curve(y_test, y_test_pred)\n",
    "plt.plot(train_fpr,train_tpr,label=\"TRAIN AUC\"+str(auc(train_fpr,train_tpr)))\n",
    "plt.plot(test_fpr,test_tpr,label=\"TEST AUC\"+str(auc(test_fpr,test_tpr)))\n",
    "plt.legend()\n",
    "plt.grid()\n",
    "plt.title(label='ROC CURVE')\n",
    "plt.xlabel(\"Hyperparameters\")\n",
    "plt.ylabel(\"AUC\")\n",
    "plt.show()"
   ]
  },
  {
   "cell_type": "code",
   "execution_count": 42,
   "metadata": {},
   "outputs": [],
   "source": [
    "def find_best_threshold(threshould, fpr, tpr):\n",
    "    t = threshould[np.argmax(tpr*(1-fpr))]\n",
    "    print(\"the maximum value of tpr*(1-fpr)\", max(tpr*(1-fpr)))\n",
    "    print('\\n')\n",
    "    return t\n",
    "\n",
    "def predict_with_best_t(proba, threshould):\n",
    "    predictions = []\n",
    "    for i in proba:\n",
    "        if i>=threshould:\n",
    "            predictions.append(1)\n",
    "        else:\n",
    "            predictions.append(0)\n",
    "    return predictions"
   ]
  },
  {
   "cell_type": "code",
   "execution_count": 43,
   "metadata": {},
   "outputs": [
    {
     "name": "stdout",
     "output_type": "stream",
     "text": [
      "the maximum value of tpr*(1-fpr) 0.00037277332976023254\n",
      "\n",
      "\n",
      "THE CONFUSION MATRIX FOR TRAIN DATASET IS\n",
      "\n"
     ]
    },
    {
     "data": {
      "image/png": "[encoded data removed]",
      "text/plain": [
       "<Figure size 432x288 with 2 Axes>"
      ]
     },
     "metadata": {
      "needs_background": "light"
     },
     "output_type": "display_data"
    }
   ],
   "source": [
    "best_threshold=find_best_threshold(tr_thresholds,train_fpr,train_tpr)\n",
    "cm_train=confusion_matrix(y_train,predict_with_best_t(y_train_pred,best_threshold))\n",
    "print(\"THE CONFUSION MATRIX FOR TRAIN DATASET IS\\n\")\n",
    "sns.heatmap(cm_train,annot=True,fmt='d')\n",
    "plt.show()"
   ]
  },
  {
   "cell_type": "code",
   "execution_count": 45,
   "metadata": {},
   "outputs": [
    {
     "name": "stdout",
     "output_type": "stream",
     "text": [
      "THE CONFUSION MATRIX FOR TEST DATASET IS\n",
      "\n"
     ]
    },
    {
     "data": {
      "image/png": "[encoded data removed]",
      "text/plain": [
       "<Figure size 432x288 with 2 Axes>"
      ]
     },
     "metadata": {
      "needs_background": "light"
     },
     "output_type": "display_data"
    }
   ],
   "source": [
    "\n",
    "print(\"THE CONFUSION MATRIX FOR TEST DATASET IS\\n\")\n",
    "cm_test=confusion_matrix(y_test,predict_with_best_t(y_test,best_threshold))\n",
    "sns.heatmap(cm_test,annot=True,fmt='d')\n",
    "plt.show()"
   ]
  },
  {
   "cell_type": "markdown",
   "metadata": {},
   "source": [
    "### SET 2 using tfidf for essays"
   ]
  },
  {
   "cell_type": "code",
   "execution_count": 28,
   "metadata": {},
   "outputs": [
    {
     "name": "stdout",
     "output_type": "stream",
     "text": [
      "After vectorisations with tf idf the shapes of the respective datatsets are\n",
      "\n",
      "(33500, 10325)\n",
      " \n",
      "(16500, 10325)\n"
     ]
    }
   ],
   "source": [
    "# Now we use tfidf for the next set\n",
    "vec=TfidfVectorizer(min_df=10)\n",
    "vec.fit(X_train['essay'].values)\n",
    "X_train_essay_tfidf=vec.transform(X_train['essay'].values)\n",
    "X_test_essay_tfidf=vec.transform(X_test['essay'].values)\n",
    "print(\"After vectorisations with tf idf the shapes of the respective datatsets are\\n\")\n",
    "print(X_train_essay_tfidf.shape)\n",
    "print(\" \")\n",
    "print(X_test_essay_tfidf.shape)\n"
   ]
  },
  {
   "cell_type": "markdown",
   "metadata": {},
   "source": [
    "### Concatenating all the values for set 2"
   ]
  },
  {
   "cell_type": "code",
   "execution_count": 29,
   "metadata": {},
   "outputs": [
    {
     "name": "stdout",
     "output_type": "stream",
     "text": [
      "The shapes of data after concatenation are\n",
      "\n",
      "(33500, 10426)\n",
      " \n",
      "(33500,)\n",
      " \n",
      "(16500, 10426)\n",
      " \n",
      "(16500,)\n"
     ]
    }
   ],
   "source": [
    "X_tr_=hstack((X_train_essay_tfidf,X_train_ohe,X_train_pgc_ohe,X_train_teachpre_ohe,X_train_cat_ohe,X_train_sub_ohe,X_train_pre_norm,X_train_price_norm)).tocsr()\n",
    "X_te_=hstack((X_test_essay_tfidf,X_test_ohe,X_test_pgc_ohe,X_test_teachpre_ohe,X_test_cat_ohe,X_test_sub_ohe,X_test_pre_norm,X_test_price_norm)).tocsr()\n",
    "print(\"The shapes of data after concatenation are\\n\")\n",
    "print(X_tr_.shape)\n",
    "print(\" \")\n",
    "print(y_train.shape)\n",
    "print(\" \")\n",
    "print(X_te_.shape)\n",
    "print(\" \")\n",
    "print(y_test.shape)"
   ]
  },
  {
   "cell_type": "markdown",
   "metadata": {},
   "source": [
    "### Performing the same Hyperparameter Tuning on the set 2"
   ]
  },
  {
   "cell_type": "code",
   "execution_count": 30,
   "metadata": {},
   "outputs": [],
   "source": [
    "#We will use same Grid Search cv for hyperparameter tuning for this set\n",
    "\n",
    "mb=MultinomialNB(class_prior=[0.5,0.5])\n",
    "\n",
    "params={'alpha':[0.00001,0.0005, 0.0001,0.005,0.001,0.05,0.01,0.1,0.5,1,5,10,50,100]}\n",
    "\n",
    "clf=GridSearchCV(mb,params,cv=3,scoring='roc_auc',return_train_score=True)\n",
    "\n",
    "clf.fit(X_tr_,y_train)\n",
    "\n",
    "res=pd.DataFrame.from_dict(clf.cv_results_)\n"
   ]
  },
  {
   "cell_type": "code",
   "execution_count": 31,
   "metadata": {},
   "outputs": [
    {
     "data": {
      "text/html": [
       "<div>\n",
       "<style scoped>\n",
       "    .dataframe tbody tr th:only-of-type {\n",
       "        vertical-align: middle;\n",
       "    }\n",
       "\n",
       "    .dataframe tbody tr th {\n",
       "        vertical-align: top;\n",
       "    }\n",
       "\n",
       "    .dataframe thead th {\n",
       "        text-align: right;\n",
       "    }\n",
       "</style>\n",
       "<table border=\"1\" class=\"dataframe\">\n",
       "  <thead>\n",
       "    <tr style=\"text-align: right;\">\n",
       "      <th></th>\n",
       "      <th>mean_fit_time</th>\n",
       "      <th>std_fit_time</th>\n",
       "      <th>mean_score_time</th>\n",
       "      <th>std_score_time</th>\n",
       "      <th>param_alpha</th>\n",
       "      <th>params</th>\n",
       "      <th>split0_test_score</th>\n",
       "      <th>split1_test_score</th>\n",
       "      <th>split2_test_score</th>\n",
       "      <th>mean_test_score</th>\n",
       "      <th>std_test_score</th>\n",
       "      <th>rank_test_score</th>\n",
       "      <th>split0_train_score</th>\n",
       "      <th>split1_train_score</th>\n",
       "      <th>split2_train_score</th>\n",
       "      <th>mean_train_score</th>\n",
       "      <th>std_train_score</th>\n",
       "    </tr>\n",
       "  </thead>\n",
       "  <tbody>\n",
       "    <tr>\n",
       "      <th>0</th>\n",
       "      <td>0.043613</td>\n",
       "      <td>0.010251</td>\n",
       "      <td>0.016438</td>\n",
       "      <td>0.012512</td>\n",
       "      <td>1e-05</td>\n",
       "      <td>{'alpha': 1e-05}</td>\n",
       "      <td>0.635773</td>\n",
       "      <td>0.632966</td>\n",
       "      <td>0.622656</td>\n",
       "      <td>0.630465</td>\n",
       "      <td>0.005639</td>\n",
       "      <td>9</td>\n",
       "      <td>0.867884</td>\n",
       "      <td>0.871913</td>\n",
       "      <td>0.876020</td>\n",
       "      <td>0.871939</td>\n",
       "      <td>0.003322</td>\n",
       "    </tr>\n",
       "    <tr>\n",
       "      <th>1</th>\n",
       "      <td>0.045642</td>\n",
       "      <td>0.002623</td>\n",
       "      <td>0.011992</td>\n",
       "      <td>0.000816</td>\n",
       "      <td>0.0005</td>\n",
       "      <td>{'alpha': 0.0005}</td>\n",
       "      <td>0.648156</td>\n",
       "      <td>0.650418</td>\n",
       "      <td>0.641367</td>\n",
       "      <td>0.646647</td>\n",
       "      <td>0.003846</td>\n",
       "      <td>6</td>\n",
       "      <td>0.861426</td>\n",
       "      <td>0.865186</td>\n",
       "      <td>0.870202</td>\n",
       "      <td>0.865604</td>\n",
       "      <td>0.003595</td>\n",
       "    </tr>\n",
       "    <tr>\n",
       "      <th>2</th>\n",
       "      <td>0.042970</td>\n",
       "      <td>0.002161</td>\n",
       "      <td>0.012672</td>\n",
       "      <td>0.001690</td>\n",
       "      <td>0.0001</td>\n",
       "      <td>{'alpha': 0.0001}</td>\n",
       "      <td>0.642524</td>\n",
       "      <td>0.642303</td>\n",
       "      <td>0.632368</td>\n",
       "      <td>0.639065</td>\n",
       "      <td>0.004737</td>\n",
       "      <td>7</td>\n",
       "      <td>0.865011</td>\n",
       "      <td>0.868910</td>\n",
       "      <td>0.873476</td>\n",
       "      <td>0.869132</td>\n",
       "      <td>0.003459</td>\n",
       "    </tr>\n",
       "    <tr>\n",
       "      <th>3</th>\n",
       "      <td>0.044310</td>\n",
       "      <td>0.004022</td>\n",
       "      <td>0.011987</td>\n",
       "      <td>0.000008</td>\n",
       "      <td>0.005</td>\n",
       "      <td>{'alpha': 0.005}</td>\n",
       "      <td>0.656575</td>\n",
       "      <td>0.663512</td>\n",
       "      <td>0.657006</td>\n",
       "      <td>0.659031</td>\n",
       "      <td>0.003173</td>\n",
       "      <td>4</td>\n",
       "      <td>0.852109</td>\n",
       "      <td>0.855218</td>\n",
       "      <td>0.861164</td>\n",
       "      <td>0.856164</td>\n",
       "      <td>0.003757</td>\n",
       "    </tr>\n",
       "    <tr>\n",
       "      <th>4</th>\n",
       "      <td>0.047647</td>\n",
       "      <td>0.002858</td>\n",
       "      <td>0.013980</td>\n",
       "      <td>0.001423</td>\n",
       "      <td>0.001</td>\n",
       "      <td>{'alpha': 0.001}</td>\n",
       "      <td>0.650801</td>\n",
       "      <td>0.654267</td>\n",
       "      <td>0.645788</td>\n",
       "      <td>0.650285</td>\n",
       "      <td>0.003480</td>\n",
       "      <td>5</td>\n",
       "      <td>0.859276</td>\n",
       "      <td>0.862922</td>\n",
       "      <td>0.868175</td>\n",
       "      <td>0.863457</td>\n",
       "      <td>0.003653</td>\n",
       "    </tr>\n",
       "    <tr>\n",
       "      <th>5</th>\n",
       "      <td>0.045641</td>\n",
       "      <td>0.002053</td>\n",
       "      <td>0.013330</td>\n",
       "      <td>0.000468</td>\n",
       "      <td>0.05</td>\n",
       "      <td>{'alpha': 0.05}</td>\n",
       "      <td>0.659896</td>\n",
       "      <td>0.672036</td>\n",
       "      <td>0.671219</td>\n",
       "      <td>0.667717</td>\n",
       "      <td>0.005540</td>\n",
       "      <td>1</td>\n",
       "      <td>0.830550</td>\n",
       "      <td>0.831126</td>\n",
       "      <td>0.838523</td>\n",
       "      <td>0.833400</td>\n",
       "      <td>0.003630</td>\n",
       "    </tr>\n",
       "    <tr>\n",
       "      <th>6</th>\n",
       "      <td>0.044975</td>\n",
       "      <td>0.003264</td>\n",
       "      <td>0.012664</td>\n",
       "      <td>0.000463</td>\n",
       "      <td>0.01</td>\n",
       "      <td>{'alpha': 0.01}</td>\n",
       "      <td>0.658689</td>\n",
       "      <td>0.667231</td>\n",
       "      <td>0.662002</td>\n",
       "      <td>0.662641</td>\n",
       "      <td>0.003516</td>\n",
       "      <td>3</td>\n",
       "      <td>0.847620</td>\n",
       "      <td>0.850326</td>\n",
       "      <td>0.856631</td>\n",
       "      <td>0.851526</td>\n",
       "      <td>0.003775</td>\n",
       "    </tr>\n",
       "    <tr>\n",
       "      <th>7</th>\n",
       "      <td>0.045981</td>\n",
       "      <td>0.002455</td>\n",
       "      <td>0.012986</td>\n",
       "      <td>0.001404</td>\n",
       "      <td>0.1</td>\n",
       "      <td>{'alpha': 0.1}</td>\n",
       "      <td>0.656838</td>\n",
       "      <td>0.670185</td>\n",
       "      <td>0.671317</td>\n",
       "      <td>0.666114</td>\n",
       "      <td>0.006575</td>\n",
       "      <td>2</td>\n",
       "      <td>0.817086</td>\n",
       "      <td>0.815849</td>\n",
       "      <td>0.823786</td>\n",
       "      <td>0.818907</td>\n",
       "      <td>0.003487</td>\n",
       "    </tr>\n",
       "    <tr>\n",
       "      <th>8</th>\n",
       "      <td>0.047641</td>\n",
       "      <td>0.002054</td>\n",
       "      <td>0.018986</td>\n",
       "      <td>0.007251</td>\n",
       "      <td>0.5</td>\n",
       "      <td>{'alpha': 0.5}</td>\n",
       "      <td>0.627188</td>\n",
       "      <td>0.638287</td>\n",
       "      <td>0.644205</td>\n",
       "      <td>0.636560</td>\n",
       "      <td>0.007054</td>\n",
       "      <td>8</td>\n",
       "      <td>0.748752</td>\n",
       "      <td>0.740902</td>\n",
       "      <td>0.747542</td>\n",
       "      <td>0.745732</td>\n",
       "      <td>0.003451</td>\n",
       "    </tr>\n",
       "    <tr>\n",
       "      <th>9</th>\n",
       "      <td>0.043651</td>\n",
       "      <td>0.000475</td>\n",
       "      <td>0.011654</td>\n",
       "      <td>0.000467</td>\n",
       "      <td>1</td>\n",
       "      <td>{'alpha': 1}</td>\n",
       "      <td>0.602810</td>\n",
       "      <td>0.610873</td>\n",
       "      <td>0.618431</td>\n",
       "      <td>0.610705</td>\n",
       "      <td>0.006378</td>\n",
       "      <td>10</td>\n",
       "      <td>0.699726</td>\n",
       "      <td>0.690348</td>\n",
       "      <td>0.694258</td>\n",
       "      <td>0.694778</td>\n",
       "      <td>0.003846</td>\n",
       "    </tr>\n",
       "  </tbody>\n",
       "</table>\n",
       "</div>"
      ],
      "text/plain": [
       "   mean_fit_time  std_fit_time  mean_score_time  std_score_time param_alpha  \\\n",
       "0       0.043613      0.010251         0.016438        0.012512       1e-05   \n",
       "1       0.045642      0.002623         0.011992        0.000816      0.0005   \n",
       "2       0.042970      0.002161         0.012672        0.001690      0.0001   \n",
       "3       0.044310      0.004022         0.011987        0.000008       0.005   \n",
       "4       0.047647      0.002858         0.013980        0.001423       0.001   \n",
       "5       0.045641      0.002053         0.013330        0.000468        0.05   \n",
       "6       0.044975      0.003264         0.012664        0.000463        0.01   \n",
       "7       0.045981      0.002455         0.012986        0.001404         0.1   \n",
       "8       0.047641      0.002054         0.018986        0.007251         0.5   \n",
       "9       0.043651      0.000475         0.011654        0.000467           1   \n",
       "\n",
       "              params  split0_test_score  split1_test_score  split2_test_score  \\\n",
       "0   {'alpha': 1e-05}           0.635773           0.632966           0.622656   \n",
       "1  {'alpha': 0.0005}           0.648156           0.650418           0.641367   \n",
       "2  {'alpha': 0.0001}           0.642524           0.642303           0.632368   \n",
       "3   {'alpha': 0.005}           0.656575           0.663512           0.657006   \n",
       "4   {'alpha': 0.001}           0.650801           0.654267           0.645788   \n",
       "5    {'alpha': 0.05}           0.659896           0.672036           0.671219   \n",
       "6    {'alpha': 0.01}           0.658689           0.667231           0.662002   \n",
       "7     {'alpha': 0.1}           0.656838           0.670185           0.671317   \n",
       "8     {'alpha': 0.5}           0.627188           0.638287           0.644205   \n",
       "9       {'alpha': 1}           0.602810           0.610873           0.618431   \n",
       "\n",
       "   mean_test_score  std_test_score  rank_test_score  split0_train_score  \\\n",
       "0         0.630465        0.005639                9            0.867884   \n",
       "1         0.646647        0.003846                6            0.861426   \n",
       "2         0.639065        0.004737                7            0.865011   \n",
       "3         0.659031        0.003173                4            0.852109   \n",
       "4         0.650285        0.003480                5            0.859276   \n",
       "5         0.667717        0.005540                1            0.830550   \n",
       "6         0.662641        0.003516                3            0.847620   \n",
       "7         0.666114        0.006575                2            0.817086   \n",
       "8         0.636560        0.007054                8            0.748752   \n",
       "9         0.610705        0.006378               10            0.699726   \n",
       "\n",
       "   split1_train_score  split2_train_score  mean_train_score  std_train_score  \n",
       "0            0.871913            0.876020          0.871939         0.003322  \n",
       "1            0.865186            0.870202          0.865604         0.003595  \n",
       "2            0.868910            0.873476          0.869132         0.003459  \n",
       "3            0.855218            0.861164          0.856164         0.003757  \n",
       "4            0.862922            0.868175          0.863457         0.003653  \n",
       "5            0.831126            0.838523          0.833400         0.003630  \n",
       "6            0.850326            0.856631          0.851526         0.003775  \n",
       "7            0.815849            0.823786          0.818907         0.003487  \n",
       "8            0.740902            0.747542          0.745732         0.003451  \n",
       "9            0.690348            0.694258          0.694778         0.003846  "
      ]
     },
     "execution_count": 31,
     "metadata": {},
     "output_type": "execute_result"
    }
   ],
   "source": [
    "res.head(10)\n"
   ]
  },
  {
   "cell_type": "code",
   "execution_count": 32,
   "metadata": {},
   "outputs": [],
   "source": [
    "res.param_alpha=res.param_alpha.apply(lambda x: np.log(x))"
   ]
  },
  {
   "cell_type": "code",
   "execution_count": 33,
   "metadata": {},
   "outputs": [
    {
     "data": {
      "image/png": "[encoded data removed]",
      "text/plain": [
       "<Figure size 432x288 with 1 Axes>"
      ]
     },
     "metadata": {
      "needs_background": "light"
     },
     "output_type": "display_data"
    }
   ],
   "source": [
    "train_auc_=res['mean_train_score']\n",
    "val_auc_=res['mean_test_score']\n",
    "plt.plot(res['param_alpha'],train_auc_,label='TRAIN AUC')\n",
    "plt.plot(res['param_alpha'],val_auc_,label='CV AUC')\n",
    "plt.scatter(res['param_alpha'],train_auc_,label='TRAIN AUC POINTS')\n",
    "plt.scatter(res['param_alpha'],val_auc_,label='CV AUC POINTS')\n",
    "plt.grid()\n",
    "plt.legend()\n",
    "plt.title(label='Hyperparameter vs auc plot')\n",
    "plt.xlabel('Log alpha hyperparameter')\n",
    "plt.ylabel('AUC')\n",
    "plt.show()"
   ]
  },
  {
   "cell_type": "code",
   "execution_count": 66,
   "metadata": {},
   "outputs": [
    {
     "ename": "ValueError",
     "evalue": "x is neither increasing nor decreasing : [1 1 1 ... 1 1 1].",
     "output_type": "error",
     "traceback": [
      "\u001b[1;31m---------------------------------------------------------------------------\u001b[0m",
      "\u001b[1;31mValueError\u001b[0m                                Traceback (most recent call last)",
      "\u001b[1;32m<ipython-input-66-a94878bb8941>\u001b[0m in \u001b[0;36m<module>\u001b[1;34m\u001b[0m\n\u001b[0;32m      6\u001b[0m \u001b[0mtr_fpr\u001b[0m\u001b[1;33m,\u001b[0m\u001b[0mtr_tpr\u001b[0m\u001b[1;33m,\u001b[0m\u001b[0mtr_thresh\u001b[0m\u001b[1;33m=\u001b[0m\u001b[0mroc_curve\u001b[0m\u001b[1;33m(\u001b[0m\u001b[0my_train\u001b[0m\u001b[1;33m,\u001b[0m\u001b[0my_train_pre\u001b[0m\u001b[1;33m)\u001b[0m\u001b[1;33m\u001b[0m\u001b[1;33m\u001b[0m\u001b[0m\n\u001b[0;32m      7\u001b[0m \u001b[0mte_fpr\u001b[0m\u001b[1;33m,\u001b[0m\u001b[0mte_tpr\u001b[0m\u001b[1;33m,\u001b[0m\u001b[0mtr_thresh\u001b[0m\u001b[1;33m=\u001b[0m\u001b[0mroc_curve\u001b[0m\u001b[1;33m(\u001b[0m\u001b[0my_test\u001b[0m\u001b[1;33m,\u001b[0m\u001b[0my_test_pre\u001b[0m\u001b[1;33m)\u001b[0m\u001b[1;33m\u001b[0m\u001b[1;33m\u001b[0m\u001b[0m\n\u001b[1;32m----> 8\u001b[1;33m \u001b[0mplt\u001b[0m\u001b[1;33m.\u001b[0m\u001b[0mplot\u001b[0m\u001b[1;33m(\u001b[0m\u001b[0mtr_fpr\u001b[0m\u001b[1;33m,\u001b[0m\u001b[0mtr_tpr\u001b[0m\u001b[1;33m,\u001b[0m\u001b[0mlabel\u001b[0m\u001b[1;33m=\u001b[0m\u001b[1;34m'TRAIN AUC'\u001b[0m\u001b[1;33m+\u001b[0m\u001b[0mstr\u001b[0m\u001b[1;33m(\u001b[0m\u001b[0mauc\u001b[0m\u001b[1;33m(\u001b[0m\u001b[0my_train\u001b[0m\u001b[1;33m,\u001b[0m\u001b[0my_train_pre\u001b[0m\u001b[1;33m)\u001b[0m\u001b[1;33m)\u001b[0m\u001b[1;33m)\u001b[0m\u001b[1;33m\u001b[0m\u001b[1;33m\u001b[0m\u001b[0m\n\u001b[0m\u001b[0;32m      9\u001b[0m \u001b[0mplt\u001b[0m\u001b[1;33m.\u001b[0m\u001b[0mplot\u001b[0m\u001b[1;33m(\u001b[0m\u001b[0mte_fpr\u001b[0m\u001b[1;33m,\u001b[0m\u001b[0mte_tpr\u001b[0m\u001b[1;33m,\u001b[0m\u001b[0mlabel\u001b[0m\u001b[1;33m=\u001b[0m\u001b[1;34m'TEST AUC'\u001b[0m\u001b[1;33m+\u001b[0m\u001b[0mstr\u001b[0m\u001b[1;33m(\u001b[0m\u001b[0mauc\u001b[0m\u001b[1;33m(\u001b[0m\u001b[0my_test\u001b[0m\u001b[1;33m,\u001b[0m\u001b[0my_test_pre\u001b[0m\u001b[1;33m)\u001b[0m\u001b[1;33m)\u001b[0m\u001b[1;33m)\u001b[0m\u001b[1;33m\u001b[0m\u001b[1;33m\u001b[0m\u001b[0m\n\u001b[0;32m     10\u001b[0m \u001b[0mplt\u001b[0m\u001b[1;33m.\u001b[0m\u001b[0mxlabel\u001b[0m\u001b[1;33m(\u001b[0m\u001b[1;34m\"Hyperparameter\"\u001b[0m\u001b[1;33m)\u001b[0m\u001b[1;33m\u001b[0m\u001b[1;33m\u001b[0m\u001b[0m\n",
      "\u001b[1;32m~\\anaconda3\\lib\\site-packages\\sklearn\\metrics\\_ranking.py\u001b[0m in \u001b[0;36mauc\u001b[1;34m(x, y)\u001b[0m\n\u001b[0;32m     91\u001b[0m             \u001b[0mdirection\u001b[0m \u001b[1;33m=\u001b[0m \u001b[1;33m-\u001b[0m\u001b[1;36m1\u001b[0m\u001b[1;33m\u001b[0m\u001b[1;33m\u001b[0m\u001b[0m\n\u001b[0;32m     92\u001b[0m         \u001b[1;32melse\u001b[0m\u001b[1;33m:\u001b[0m\u001b[1;33m\u001b[0m\u001b[1;33m\u001b[0m\u001b[0m\n\u001b[1;32m---> 93\u001b[1;33m             raise ValueError(\"x is neither increasing nor decreasing \"\n\u001b[0m\u001b[0;32m     94\u001b[0m                              \": {}.\".format(x))\n\u001b[0;32m     95\u001b[0m \u001b[1;33m\u001b[0m\u001b[0m\n",
      "\u001b[1;31mValueError\u001b[0m: x is neither increasing nor decreasing : [1 1 1 ... 1 1 1]."
     ]
    }
   ],
   "source": [
    "#From the above plot we can see that the best hyperparameter value for this plot is 100\n",
    "mn=MultinomialNB(alpha=50,class_prior=[0.5,0.5])\n",
    "mn.fit(X_tr_,y_train)\n",
    "y_train_pre=mn.predict(X_tr_)\n",
    "y_test_pre=mn.predict(X_te_)\n",
    "tr_fpr,tr_tpr,tr_thresh=roc_curve(y_train,y_train_pre)\n",
    "te_fpr,te_tpr,tr_thresh=roc_curve(y_test,y_test_pre)\n",
    "plt.plot(tr_fpr,tr_tpr,label='TRAIN AUC'+str(auc(y_train,y_train_pre)))\n",
    "plt.plot(te_fpr,te_tpr,label='TEST AUC'+str(auc(y_test,y_test_pre)))\n",
    "plt.xlabel(\"Hyperparameter\")\n",
    "plt.ylabel('AUC')\n",
    "plt.title(label='ROC CURVE')\n",
    "plt.legend()\n",
    "plt.grid()\n",
    "plt.show()\n"
   ]
  },
  {
   "cell_type": "code",
   "execution_count": 65,
   "metadata": {},
   "outputs": [],
   "source": [
    "from prettytable import PrettyTable"
   ]
  },
  {
   "cell_type": "code",
   "execution_count": 63,
   "metadata": {},
   "outputs": [
    {
     "name": "stdout",
     "output_type": "stream",
     "text": [
      "+------------+---------------+----------------+-----------+----------+\n",
      "| Vectorizer |     Model     | HyperParameter | Train AUC | Test AUC |\n",
      "+------------+---------------+----------------+-----------+----------+\n",
      "|    BOW     | MultiNomialNB |       50       |   0.500   |  0.499   |\n",
      "|   TFIDF    | MultinomialNB |      100       |    0.77   |   0.33   |\n",
      "+------------+---------------+----------------+-----------+----------+\n"
     ]
    }
   ],
   "source": [
    "x=PrettyTable(['Vectorizer','Model','HyperParameter','Train AUC','Test AUC'])\n",
    "x.add_row(['BOW','MultiNomialNB','50','0.500','0.499'])\n",
    "x.add_row(['TFIDF','MultinomialNB','100','0.77','0.33'])\n",
    "print(x)"
   ]
  },
  {
   "cell_type": "code",
   "execution_count": null,
   "metadata": {},
   "outputs": [],
   "source": []
  }
 ],
 "metadata": {
  "kernelspec": {
   "display_name": "Python 3",
   "language": "python",
   "name": "python3"
  },
  "language_info": {
   "codemirror_mode": {
    "name": "ipython",
    "version": 3
   },
   "file_extension": ".py",
   "mimetype": "text/x-python",
   "name": "python",
   "nbconvert_exporter": "python",
   "pygments_lexer": "ipython3",
   "version": "3.8.3"
  }
 },
 "nbformat": 4,
 "nbformat_minor": 4
}
